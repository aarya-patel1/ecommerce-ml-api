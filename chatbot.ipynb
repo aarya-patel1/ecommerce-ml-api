{
 "cells": [
  {
   "cell_type": "code",
   "execution_count": null,
   "id": "4b30a042-1c76-4084-87d3-66871a328b01",
   "metadata": {},
   "outputs": [],
   "source": [
    "import random\n",
    "import pandas as pd"
   ]
  },
  {
   "cell_type": "code",
   "execution_count": null,
   "id": "2e6c189d-263b-4fd0-bc7b-3f7bdb0ad2b6",
   "metadata": {},
   "outputs": [],
   "source": [
    "from sklearn.feature_extraction.text import TfidfVectorizer\n",
    "from sklearn.metrics.pairwise import cosine_similarity"
   ]
  },
  {
   "cell_type": "code",
   "execution_count": null,
   "id": "792f713c-8e8a-46ab-9e11-49a38689712e",
   "metadata": {},
   "outputs": [],
   "source": [
    "df = pd.read_csv(\"ecommerce_dataset.csv\")\n",
    "df.fillna(\"\", inplace=True)\n"
   ]
  },
  {
   "cell_type": "code",
   "execution_count": null,
   "id": "9b8a806e-1c28-46f9-b3d5-5287b687713b",
   "metadata": {},
   "outputs": [],
   "source": [
    "df[\"Combined_Features\"] = df[\"Category\"].astype(str) + \" \" + df[\"Name\"].astype(str) + \" \" + df[\"Reviews\"].astype(str)\n",
    "vectorizer = TfidfVectorizer(stop_words=\"english\")\n",
    "tfidf_matrix = vectorizer.fit_transform(df[\"Combined_Features\"])\n",
    "content_sim = cosine_similarity(tfidf_matrix, tfidf_matrix)"
   ]
  },
  {
   "cell_type": "code",
   "execution_count": null,
   "id": "f793e0f9-e62a-457d-ab72-557ed5d47e3d",
   "metadata": {},
   "outputs": [],
   "source": [
    "def recommend_products(product_name, num_recommendations=5):\n",
    "    if product_name.lower() not in df[\"Name\"].str.lower().values:\n",
    "        return [\"Sorry, product not found.\"]\n",
    "    idx = df[df[\"Name\"].str.lower() == product_name.lower()].index[0]\n",
    "    sim_scores = list(enumerate(content_sim[idx]))\n",
    "    sim_scores = sorted(sim_scores, key=lambda x: x[1], reverse=True)[1:num_recommendations+1]\n",
    "    return df.iloc[[i[0] for i in sim_scores]][\"Name\"].values.tolist()"
   ]
  },
  {
   "cell_type": "code",
   "execution_count": null,
   "id": "903dca8a-636f-43ad-af09-388db0de787c",
   "metadata": {},
   "outputs": [],
   "source": [
    "def chatbot_response(user_input):\n",
    "    user_input = user_input.lower()\n",
    "    if \"availability\" in user_input or \"stock\" in user_input:\n",
    "        return \"Please specify the product name to check availability.\"\n",
    "    elif \"recommend\" in user_input:\n",
    "        words = user_input.split()\n",
    "        for word in words:\n",
    "            if word in df[\"Name\"].str.lower().values:\n",
    "                return f\"Here are some recommendations: {recommend_products(word)}\"\n",
    "        return \"Please provide a product name for recommendations.\"\n",
    "    elif \"return policy\" in user_input or \"refund\" in user_input:\n",
    "        return \"Our return policy allows returns within 30 days. Please visit our website for more details.\"\n",
    "    elif \"shipping\" in user_input:\n",
    "        return \"Standard shipping takes 3-5 business days. Expedited shipping is available.\"\n",
    "    else:\n",
    "        return \"I'm sorry, I didn't understand that. Can you rephrase?\""
   ]
  },
  {
   "cell_type": "code",
   "execution_count": null,
   "id": "61a30a90-9601-4099-90fa-d36ba2533f8e",
   "metadata": {},
   "outputs": [
    {
     "name": "stdout",
     "output_type": "stream",
     "text": [
      "Welcome to the E-commerce Chatbot! Type 'exit' to end the conversation.\n"
     ]
    },
    {
     "name": "stdout",
     "output_type": "stream",
     "text": [
      "You:  smartphone\n"
     ]
    },
    {
     "name": "stdout",
     "output_type": "stream",
     "text": [
      "Chatbot: I'm sorry, I didn't understand that. Can you rephrase?\n"
     ]
    },
    {
     "name": "stdout",
     "output_type": "stream",
     "text": [
      "You:  return policy\n"
     ]
    },
    {
     "name": "stdout",
     "output_type": "stream",
     "text": [
      "Chatbot: Our return policy allows returns within 30 days. Please visit our website for more details.\n"
     ]
    }
   ],
   "source": [
    "def chat():\n",
    "    print(\"Welcome to the E-commerce Chatbot! Type 'exit' to end the conversation.\")\n",
    "    while True:\n",
    "        user_input = input(\"You: \")\n",
    "        if user_input.lower() == 'exit':\n",
    "            print(\"Chatbot: Goodbye!\")\n",
    "            break\n",
    "        response = chatbot_response(user_input)\n",
    "        print(f\"Chatbot: {response}\")\n",
    "\n",
    "if __name__ == \"__main__\":\n",
    "    chat()\n"
   ]
  }
 ],
 "metadata": {
  "kernelspec": {
   "display_name": "Python 3",
   "language": "python",
   "name": "python3"
  },
  "language_info": {
   "codemirror_mode": {
    "name": "ipython",
    "version": 3
   },
   "file_extension": ".py",
   "mimetype": "text/x-python",
   "name": "python",
   "nbconvert_exporter": "python",
   "pygments_lexer": "ipython3",
   "version": "3.13.1"
  }
 },
 "nbformat": 4,
 "nbformat_minor": 5
}
