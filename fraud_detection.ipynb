{
 "cells": [
  {
   "cell_type": "code",
   "execution_count": null,
   "id": "33a76b7a-ef98-463d-90e7-9bbfe18facb5",
   "metadata": {},
   "outputs": [
    {
     "ename": "",
     "evalue": "",
     "output_type": "error",
     "traceback": [
      "\u001b[1;31mRunning cells with 'Python 3.13.1' requires the ipykernel package.\n",
      "\u001b[1;31mRun the following command to install 'ipykernel' into the Python environment. \n",
      "\u001b[1;31mCommand: 'c:/Users/KIIT/AppData/Local/Programs/Python/Python313/python3.13t.exe -m pip install ipykernel -U --user --force-reinstall'"
     ]
    }
   ],
   "source": [
    "import pandas as pd\n",
    "import numpy as np\n",
    "from sklearn.model_selection import train_test_split\n",
    "from sklearn.ensemble import RandomForestClassifier\n",
    "from sklearn.metrics import classification_report, confusion_matrix"
   ]
  },
  {
   "cell_type": "code",
   "execution_count": null,
   "id": "f6946402-96a1-4b8a-bdc6-d0c8e31aa6dc",
   "metadata": {},
   "outputs": [],
   "source": [
    "data = pd.read_csv('ecommerce_dataset.csv')"
   ]
  },
  {
   "cell_type": "code",
   "execution_count": null,
   "id": "4d3b887d-b73a-444e-af8e-59e1f009c7fb",
   "metadata": {},
   "outputs": [],
   "source": [
    "data_info = data.info()\n",
    "data_head = data.head()\n"
   ]
  },
  {
   "cell_type": "code",
   "execution_count": null,
   "id": "5a59f8b1-c362-45e0-a32e-ee01fad571a6",
   "metadata": {},
   "outputs": [],
   "source": [
    "data_encoded = pd.get_dummies(data, columns=['Category', 'Stock_Availability'])\n",
    "data_encoded = data_encoded.drop(['Product_ID', 'Name', 'Reviews'], axis=1)\n",
    "data_encoded.head()"
   ]
  },
  {
   "cell_type": "code",
   "execution_count": null,
   "id": "7239a66c-c498-436d-9efc-14ba360ab319",
   "metadata": {},
   "outputs": [],
   "source": [
    "data_encoded['Fraud'] = ((data_encoded['Price'] > 300) & (data_encoded['Rating'] < 3)).astype(int)\n",
    "fraud_distribution = data_encoded['Fraud'].value_counts()\n",
    "fraud_distribution"
   ]
  },
  {
   "cell_type": "code",
   "execution_count": null,
   "id": "57a682f1-f3ef-4a87-8c3e-5b4ab17eebab",
   "metadata": {},
   "outputs": [],
   "source": [
    "X = data_encoded.drop('Fraud', axis=1)\n",
    "y = data_encoded['Fraud']\n",
    "\n"
   ]
  }
 ],
 "metadata": {
  "kernelspec": {
   "display_name": "Python 3",
   "language": "python",
   "name": "python3"
  },
  "language_info": {
   "codemirror_mode": {
    "name": "ipython",
    "version": 3
   },
   "file_extension": ".py",
   "mimetype": "text/x-python",
   "name": "python",
   "nbconvert_exporter": "python",
   "pygments_lexer": "ipython3",
   "version": "3.13.1"
  }
 },
 "nbformat": 4,
 "nbformat_minor": 5
}
