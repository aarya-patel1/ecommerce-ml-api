{
 "cells": [
  {
   "cell_type": "code",
   "execution_count": 1,
   "id": "5fe438a5-b6e5-4b3d-b877-890b94551c9a",
   "metadata": {},
   "outputs": [],
   "source": [
    "import pandas as pd"
   ]
  },
  {
   "cell_type": "code",
   "execution_count": 2,
   "id": "37c25481-eed4-4790-b1ac-dbd3bca04f71",
   "metadata": {},
   "outputs": [],
   "source": [
    "df = pd.read_csv('ecommerce_dataset.csv')"
   ]
  },
  {
   "cell_type": "code",
   "execution_count": 3,
   "id": "952644cc-aa62-448b-8639-90446553dabd",
   "metadata": {},
   "outputs": [
    {
     "data": {
      "text/html": [
       "<div>\n",
       "<style scoped>\n",
       "    .dataframe tbody tr th:only-of-type {\n",
       "        vertical-align: middle;\n",
       "    }\n",
       "\n",
       "    .dataframe tbody tr th {\n",
       "        vertical-align: top;\n",
       "    }\n",
       "\n",
       "    .dataframe thead th {\n",
       "        text-align: right;\n",
       "    }\n",
       "</style>\n",
       "<table border=\"1\" class=\"dataframe\">\n",
       "  <thead>\n",
       "    <tr style=\"text-align: right;\">\n",
       "      <th></th>\n",
       "      <th>Product_ID</th>\n",
       "      <th>Name</th>\n",
       "      <th>Category</th>\n",
       "      <th>Price</th>\n",
       "      <th>Rating</th>\n",
       "      <th>Reviews</th>\n",
       "      <th>Stock_Availability</th>\n",
       "    </tr>\n",
       "  </thead>\n",
       "  <tbody>\n",
       "    <tr>\n",
       "      <th>0</th>\n",
       "      <td>P1000</td>\n",
       "      <td>Doll</td>\n",
       "      <td>Fashion</td>\n",
       "      <td>80.17</td>\n",
       "      <td>2.0</td>\n",
       "      <td>Value for money, satisfied with the purchase.</td>\n",
       "      <td>Out of Stock</td>\n",
       "    </tr>\n",
       "    <tr>\n",
       "      <th>1</th>\n",
       "      <td>P1001</td>\n",
       "      <td>Smartphone</td>\n",
       "      <td>Electronics</td>\n",
       "      <td>162.39</td>\n",
       "      <td>3.4</td>\n",
       "      <td>Quality is okay, could be better.</td>\n",
       "      <td>Out of Stock</td>\n",
       "    </tr>\n",
       "    <tr>\n",
       "      <th>2</th>\n",
       "      <td>P1002</td>\n",
       "      <td>T-Shirt</td>\n",
       "      <td>Fashion</td>\n",
       "      <td>184.34</td>\n",
       "      <td>4.5</td>\n",
       "      <td>Value for money, satisfied with the purchase.</td>\n",
       "      <td>Available</td>\n",
       "    </tr>\n",
       "    <tr>\n",
       "      <th>3</th>\n",
       "      <td>P1003</td>\n",
       "      <td>Board Game</td>\n",
       "      <td>Fashion</td>\n",
       "      <td>308.10</td>\n",
       "      <td>4.1</td>\n",
       "      <td>Not as described, a bit disappointed.</td>\n",
       "      <td>Available</td>\n",
       "    </tr>\n",
       "    <tr>\n",
       "      <th>4</th>\n",
       "      <td>P1004</td>\n",
       "      <td>Laptop</td>\n",
       "      <td>Home Appliances</td>\n",
       "      <td>479.90</td>\n",
       "      <td>2.6</td>\n",
       "      <td>Value for money, satisfied with the purchase.</td>\n",
       "      <td>Available</td>\n",
       "    </tr>\n",
       "  </tbody>\n",
       "</table>\n",
       "</div>"
      ],
      "text/plain": [
       "  Product_ID        Name         Category   Price  Rating  \\\n",
       "0      P1000        Doll          Fashion   80.17     2.0   \n",
       "1      P1001  Smartphone      Electronics  162.39     3.4   \n",
       "2      P1002     T-Shirt          Fashion  184.34     4.5   \n",
       "3      P1003  Board Game          Fashion  308.10     4.1   \n",
       "4      P1004      Laptop  Home Appliances  479.90     2.6   \n",
       "\n",
       "                                         Reviews Stock_Availability  \n",
       "0  Value for money, satisfied with the purchase.       Out of Stock  \n",
       "1              Quality is okay, could be better.       Out of Stock  \n",
       "2  Value for money, satisfied with the purchase.          Available  \n",
       "3          Not as described, a bit disappointed.          Available  \n",
       "4  Value for money, satisfied with the purchase.          Available  "
      ]
     },
     "execution_count": 3,
     "metadata": {},
     "output_type": "execute_result"
    }
   ],
   "source": [
    "df.head()"
   ]
  },
  {
   "cell_type": "code",
   "execution_count": 4,
   "id": "3eaa9ba1-9f6c-4e74-ac71-607c704b3e83",
   "metadata": {},
   "outputs": [
    {
     "name": "stdout",
     "output_type": "stream",
     "text": [
      "<class 'pandas.core.frame.DataFrame'>\n",
      "RangeIndex: 100 entries, 0 to 99\n",
      "Data columns (total 7 columns):\n",
      " #   Column              Non-Null Count  Dtype  \n",
      "---  ------              --------------  -----  \n",
      " 0   Product_ID          100 non-null    object \n",
      " 1   Name                100 non-null    object \n",
      " 2   Category            100 non-null    object \n",
      " 3   Price               100 non-null    float64\n",
      " 4   Rating              100 non-null    float64\n",
      " 5   Reviews             100 non-null    object \n",
      " 6   Stock_Availability  100 non-null    object \n",
      "dtypes: float64(2), object(5)\n",
      "memory usage: 5.6+ KB\n"
     ]
    }
   ],
   "source": [
    "df.info()"
   ]
  },
  {
   "cell_type": "code",
   "execution_count": 5,
   "id": "ab430322-7f18-44c9-a42a-6d0d67212996",
   "metadata": {},
   "outputs": [],
   "source": [
    " from sklearn.feature_extraction.text import TfidfVectorizer\n",
    "from sklearn.metrics.pairwise import cosine_similarity\n",
    "from scipy.sparse.linalg import svds\n",
    "import numpy as np"
   ]
  },
  {
   "cell_type": "code",
   "execution_count": 6,
   "id": "48ef16b6-439d-42ba-ace8-afa5e82e619c",
   "metadata": {},
   "outputs": [],
   "source": [
    "df.fillna(\"\",inplace=True)"
   ]
  },
  {
   "cell_type": "code",
   "execution_count": 7,
   "id": "2c516101-0aea-412c-85b4-96cb95828ab9",
   "metadata": {},
   "outputs": [],
   "source": [
    "df[\"Combined_Features\"] = df[\"Category\"].astype(str) + \" \" + df[\"Name\"].astype(str) + \" \" + df[\"Reviews\"].astype(str)\n"
   ]
  },
  {
   "cell_type": "code",
   "execution_count": 8,
   "id": "b01c1c01-9c77-42cf-b023-f30417dd94c1",
   "metadata": {},
   "outputs": [],
   "source": [
    "vectorizer = TfidfVectorizer(stop_words=\"english\")\n",
    "tfidf_matrix = vectorizer.fit_transform(df[\"Combined_Features\"])\n",
    "\n"
   ]
  },
  {
   "cell_type": "code",
   "execution_count": 9,
   "id": "450a7378-79b2-449b-af23-931069b3fb97",
   "metadata": {},
   "outputs": [],
   "source": [
    "content_sim = cosine_similarity(tfidf_matrix, tfidf_matrix)"
   ]
  },
  {
   "cell_type": "code",
   "execution_count": 10,
   "id": "54546411-22da-444f-ab30-f565ae2c00a2",
   "metadata": {},
   "outputs": [],
   "source": [
    "preds_df = None\n",
    "if {'User_ID', 'Product_ID', 'Rating'}.issubset(df.columns):\n",
    "    user_item_matrix = df.pivot_table(index='User_ID', columns='Product_ID', values='Rating', aggfunc='mean').fillna(0)\n",
    "\n",
    "    if user_item_matrix.shape[0] > 0 and user_item_matrix.shape[1] > 0:\n",
    "        # Normalize and perform Singular Value Decomposition (SVD)\n",
    "        user_ratings_mean = np.mean(user_item_matrix, axis=1)\n",
    "        rating_matrix_demeaned = user_item_matrix - user_ratings_mean.values.reshape(-1, 1)\n",
    "        \n",
    "        # Ensure k is not larger than the smallest dimension\n",
    "        k_value = min(50, min(user_item_matrix.shape) - 1)\n",
    "        U, sigma, Vt = svds(rating_matrix_demeaned, k=k_value)\n",
    "        sigma = np.diag(sigma)\n",
    "        \n",
    "        # Reconstruct predictions\n",
    "        predicted_ratings = np.dot(np.dot(U, sigma), Vt) + user_ratings_mean.values.reshape(-1, 1)\n",
    "        preds_df = pd.DataFrame(predicted_ratings, index=user_item_matrix.index, columns=user_item_matrix.columns)\n",
    "    else:\n",
    "        preds_df = None\n",
    "else:\n",
    "    preds_df = None\n",
    "\n",
    "    "
   ]
  },
  {
   "cell_type": "code",
   "execution_count": 11,
   "id": "28275b27-3aec-4659-9800-f1db7b2949db",
   "metadata": {},
   "outputs": [
    {
     "name": "stdout",
     "output_type": "stream",
     "text": [
      "['Smartphone', 'T-Shirt', 'Board Game', 'Doll']\n"
     ]
    }
   ],
   "source": [
    "def hybrid_recommend(product_name, user_id=None, num_recommendations=5):\n",
    "    if product_name.lower() not in df[\"Name\"].str.lower().values:\n",
    "        return \"Product not found in the dataset.\"\n",
    "    \n",
    "    # Content-Based Recommendations\n",
    "    idx = df[df[\"Name\"].str.lower() == product_name.lower()].index[0]\n",
    "    sim_scores = list(enumerate(content_sim[idx]))\n",
    "    sim_scores = sorted(sim_scores, key=lambda x: x[1], reverse=True)[1:num_recommendations+1]\n",
    "    content_based_recommendations = df.iloc[[i[0] for i in sim_scores]]['Name'].values.tolist()\n",
    "    \n",
    "    # Collaborative Filtering Recommendations\n",
    "    collaborative_recommendations = []\n",
    "    if user_id is not None and preds_df is not None and user_id in preds_df.index:\n",
    "        user_ratings = preds_df.loc[user_id].sort_values(ascending=False)\n",
    "        top_product_ids = user_ratings.head(num_recommendations).index\n",
    "        collaborative_recommendations = df[df['Product_ID'].isin(top_product_ids)]['Name'].values.tolist()\n",
    "    \n",
    "    # Combine both recommendations\n",
    "    final_recommendations = list(set(content_based_recommendations + collaborative_recommendations))\n",
    "    return final_recommendations[:num_recommendations]\n",
    "\n",
    "print(hybrid_recommend(\"Smartphone\", user_id=101, num_recommendations=5))\n"
   ]
  },
  {
   "cell_type": "code",
   "execution_count": null,
   "id": "989f6d31-f09c-4f6a-a7a4-bb9cab72c862",
   "metadata": {},
   "outputs": [],
   "source": []
  },
  {
   "cell_type": "code",
   "execution_count": null,
   "id": "bb386b56-24a1-4427-a15b-33dfefe3ca35",
   "metadata": {},
   "outputs": [],
   "source": []
  }
 ],
 "metadata": {
  "kernelspec": {
   "display_name": "Python 3 (ipykernel)",
   "language": "python",
   "name": "python3"
  },
  "language_info": {
   "codemirror_mode": {
    "name": "ipython",
    "version": 3
   },
   "file_extension": ".py",
   "mimetype": "text/x-python",
   "name": "python",
   "nbconvert_exporter": "python",
   "pygments_lexer": "ipython3",
   "version": "3.12.8"
  }
 },
 "nbformat": 4,
 "nbformat_minor": 5
}
